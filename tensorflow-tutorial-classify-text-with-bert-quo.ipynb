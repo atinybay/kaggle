{
 "cells": [
  {
   "cell_type": "code",
   "execution_count": 1,
   "id": "5fd548d8",
   "metadata": {
    "_cell_guid": "b1076dfc-b9ad-4769-8c92-a6c4dae69d19",
    "_uuid": "8f2839f25d086af736a60e9eeb907d3b93b6e0e5",
    "execution": {
     "iopub.execute_input": "2023-07-03T06:14:05.664267Z",
     "iopub.status.busy": "2023-07-03T06:14:05.663324Z",
     "iopub.status.idle": "2023-07-03T06:14:05.680060Z",
     "shell.execute_reply": "2023-07-03T06:14:05.678735Z"
    },
    "papermill": {
     "duration": 0.025066,
     "end_time": "2023-07-03T06:14:05.682646",
     "exception": false,
     "start_time": "2023-07-03T06:14:05.657580",
     "status": "completed"
    },
    "tags": []
   },
   "outputs": [
    {
     "name": "stdout",
     "output_type": "stream",
     "text": [
      "/kaggle/input/quora-insincere-questions-classification/sample_submission.csv\n",
      "/kaggle/input/quora-insincere-questions-classification/embeddings.zip\n",
      "/kaggle/input/quora-insincere-questions-classification/train.csv\n",
      "/kaggle/input/quora-insincere-questions-classification/test.csv\n"
     ]
    }
   ],
   "source": [
    "# This Python 3 environment comes with many helpful analytics libraries installed\n",
    "# It is defined by the kaggle/python Docker image: https://github.com/kaggle/docker-python\n",
    "# For example, here's several helpful packages to load\n",
    "\n",
    "import numpy as np # linear algebra\n",
    "import pandas as pd # data processing, CSV file I/O (e.g. pd.read_csv)\n",
    "\n",
    "# Input data files are available in the read-only \"../input/\" directory\n",
    "# For example, running this (by clicking run or pressing Shift+Enter) will list all files under the input directory\n",
    "\n",
    "import os\n",
    "for dirname, _, filenames in os.walk('/kaggle/input'):\n",
    "    for filename in filenames:\n",
    "        print(os.path.join(dirname, filename))\n",
    "\n",
    "# You can write up to 20GB to the current directory (/kaggle/working/) that gets preserved as output when you create a version using \"Save & Run All\" \n",
    "# You can also write temporary files to /kaggle/temp/, but they won't be saved outside of the current session"
   ]
  },
  {
   "cell_type": "code",
   "execution_count": 2,
   "id": "43a991ef",
   "metadata": {
    "execution": {
     "iopub.execute_input": "2023-07-03T06:14:05.690275Z",
     "iopub.status.busy": "2023-07-03T06:14:05.689812Z",
     "iopub.status.idle": "2023-07-03T06:14:05.695030Z",
     "shell.execute_reply": "2023-07-03T06:14:05.693962Z"
    },
    "papermill": {
     "duration": 0.011532,
     "end_time": "2023-07-03T06:14:05.697266",
     "exception": false,
     "start_time": "2023-07-03T06:14:05.685734",
     "status": "completed"
    },
    "tags": []
   },
   "outputs": [],
   "source": [
    "# !head /kaggle/input/quora-insincere-questions-classification/sample_submission.csv"
   ]
  },
  {
   "cell_type": "code",
   "execution_count": 3,
   "id": "3af867c0",
   "metadata": {
    "execution": {
     "iopub.execute_input": "2023-07-03T06:14:05.705003Z",
     "iopub.status.busy": "2023-07-03T06:14:05.704566Z",
     "iopub.status.idle": "2023-07-03T06:14:05.709409Z",
     "shell.execute_reply": "2023-07-03T06:14:05.708262Z"
    },
    "papermill": {
     "duration": 0.011325,
     "end_time": "2023-07-03T06:14:05.711544",
     "exception": false,
     "start_time": "2023-07-03T06:14:05.700219",
     "status": "completed"
    },
    "tags": []
   },
   "outputs": [],
   "source": [
    "import matplotlib.pyplot as plt\n",
    "import pandas as pd"
   ]
  },
  {
   "cell_type": "code",
   "execution_count": 4,
   "id": "7f7af867",
   "metadata": {
    "execution": {
     "iopub.execute_input": "2023-07-03T06:14:05.719209Z",
     "iopub.status.busy": "2023-07-03T06:14:05.718787Z",
     "iopub.status.idle": "2023-07-03T06:14:06.122494Z",
     "shell.execute_reply": "2023-07-03T06:14:06.121282Z"
    },
    "papermill": {
     "duration": 0.410609,
     "end_time": "2023-07-03T06:14:06.125055",
     "exception": false,
     "start_time": "2023-07-03T06:14:05.714446",
     "status": "completed"
    },
    "tags": []
   },
   "outputs": [
    {
     "data": {
      "text/plain": [
       "<Axes: >"
      ]
     },
     "execution_count": 4,
     "metadata": {},
     "output_type": "execute_result"
    },
    {
     "data": {
      "image/png": "[encoded data removed]",
      "text/plain": [
       "<Figure size 640x480 with 1 Axes>"
      ]
     },
     "metadata": {},
     "output_type": "display_data"
    }
   ],
   "source": [
    "df_test = pd.DataFrame({\"x\": [1, 2, 3], \"y\": [3, 6, 2]})\n",
    "\n",
    "df_test.plot()"
   ]
  },
  {
   "cell_type": "code",
   "execution_count": 5,
   "id": "117c4922",
   "metadata": {
    "execution": {
     "iopub.execute_input": "2023-07-03T06:14:06.134314Z",
     "iopub.status.busy": "2023-07-03T06:14:06.133333Z",
     "iopub.status.idle": "2023-07-03T06:14:11.710622Z",
     "shell.execute_reply": "2023-07-03T06:14:11.709410Z"
    },
    "papermill": {
     "duration": 5.585186,
     "end_time": "2023-07-03T06:14:11.713625",
     "exception": false,
     "start_time": "2023-07-03T06:14:06.128439",
     "status": "completed"
    },
    "tags": []
   },
   "outputs": [
    {
     "name": "stdout",
     "output_type": "stream",
     "text": [
      "Cloning into 'models'...\r\n",
      "remote: Enumerating objects: 3916, done.\u001b[K\r\n",
      "remote: Counting objects: 100% (3916/3916), done.\u001b[K\r\n",
      "remote: Compressing objects: 100% (3025/3025), done.\u001b[K\r\n",
      "remote: Total 3916 (delta 1130), reused 1812 (delta 838), pack-reused 0\u001b[K\r\n",
      "Receiving objects: 100% (3916/3916), 49.65 MiB | 29.59 MiB/s, done.\r\n",
      "Resolving deltas: 100% (1130/1130), done.\r\n"
     ]
    }
   ],
   "source": [
    "!git clone --depth 1 https://github.com/tensorflow/models.git"
   ]
  },
  {
   "cell_type": "code",
   "execution_count": 6,
   "id": "4dfa5489",
   "metadata": {
    "execution": {
     "iopub.execute_input": "2023-07-03T06:14:11.729707Z",
     "iopub.status.busy": "2023-07-03T06:14:11.729177Z",
     "iopub.status.idle": "2023-07-03T06:15:48.880903Z",
     "shell.execute_reply": "2023-07-03T06:15:48.879153Z"
    },
    "papermill": {
     "duration": 97.163764,
     "end_time": "2023-07-03T06:15:48.884076",
     "exception": false,
     "start_time": "2023-07-03T06:14:11.720312",
     "status": "completed"
    },
    "tags": []
   },
   "outputs": [
    {
     "name": "stdout",
     "output_type": "stream",
     "text": [
      "\u001b[31mERROR: pip's dependency resolver does not currently take into account all the packages that are installed. This behaviour is the source of the following dependency conflicts.\r\n",
      "apache-beam 2.46.0 requires dill<0.3.2,>=0.3.1.1, but you have dill 0.3.6 which is incompatible.\r\n",
      "apache-beam 2.46.0 requires numpy<1.25.0,>=1.14.3, but you have numpy 1.25.0 which is incompatible.\r\n",
      "beatrix-jupyterlab 2023.58.190319 requires jupyter-server~=1.16, but you have jupyter-server 2.5.0 which is incompatible.\r\n",
      "cloud-tpu-client 0.10 requires google-api-python-client==1.8.0, but you have google-api-python-client 2.91.0 which is incompatible.\r\n",
      "featuretools 1.26.0 requires pandas<2.0.0,>=1.5.0, but you have pandas 2.0.3 which is incompatible.\r\n",
      "kfp 1.8.21 requires google-api-python-client<2,>=1.7.8, but you have google-api-python-client 2.91.0 which is incompatible.\r\n",
      "momepy 0.6.0 requires shapely>=2, but you have shapely 1.8.5.post1 which is incompatible.\r\n",
      "numba 0.57.0 requires numpy<1.25,>=1.21, but you have numpy 1.25.0 which is incompatible.\r\n",
      "pymc3 3.11.5 requires numpy<1.22.2,>=1.15.0, but you have numpy 1.25.0 which is incompatible.\r\n",
      "pymc3 3.11.5 requires scipy<1.8.0,>=1.7.3, but you have scipy 1.11.1 which is incompatible.\r\n",
      "tensorflow 2.12.0 requires numpy<1.24,>=1.22, but you have numpy 1.25.0 which is incompatible.\r\n",
      "tensorflowjs 3.15.0 requires tensorflow-hub<0.13,>=0.7.0, but you have tensorflow-hub 0.13.0 which is incompatible.\r\n",
      "woodwork 0.24.0 requires pandas<2.0.0,>=1.4.3, but you have pandas 2.0.3 which is incompatible.\r\n",
      "ydata-profiling 4.1.2 requires matplotlib<3.7,>=3.2, but you have matplotlib 3.7.1 which is incompatible.\r\n",
      "ydata-profiling 4.1.2 requires numpy<1.24,>=1.16.0, but you have numpy 1.25.0 which is incompatible.\r\n",
      "ydata-profiling 4.1.2 requires pandas!=1.4.0,<1.6,>1.1, but you have pandas 2.0.3 which is incompatible.\r\n",
      "ydata-profiling 4.1.2 requires scipy<1.10,>=1.4.1, but you have scipy 1.11.1 which is incompatible.\u001b[0m\u001b[31m\r\n",
      "\u001b[0m\u001b[33mWARNING: Running pip as the 'root' user can result in broken permissions and conflicting behaviour with the system package manager. It is recommended to use a virtual environment instead: https://pip.pypa.io/warnings/venv\u001b[0m\u001b[33m\r\n",
      "\u001b[0m"
     ]
    }
   ],
   "source": [
    "!pip install -Uqr models/official/requirements.txt"
   ]
  },
  {
   "cell_type": "code",
   "execution_count": null,
   "id": "879b3f4b",
   "metadata": {
    "papermill": {
     "duration": 0.006383,
     "end_time": "2023-07-03T06:15:48.897323",
     "exception": false,
     "start_time": "2023-07-03T06:15:48.890940",
     "status": "completed"
    },
    "tags": []
   },
   "outputs": [],
   "source": []
  }
 ],
 "metadata": {
  "kernelspec": {
   "display_name": "Python 3",
   "language": "python",
   "name": "python3"
  },
  "language_info": {
   "codemirror_mode": {
    "name": "ipython",
    "version": 3
   },
   "file_extension": ".py",
   "mimetype": "text/x-python",
   "name": "python",
   "nbconvert_exporter": "python",
   "pygments_lexer": "ipython3",
   "version": "3.10.10"
  },
  "papermill": {
   "default_parameters": {},
   "duration": 117.549679,
   "end_time": "2023-07-03T06:15:50.231573",
   "environment_variables": {},
   "exception": null,
   "input_path": "__notebook__.ipynb",
   "output_path": "__notebook__.ipynb",
   "parameters": {},
   "start_time": "2023-07-03T06:13:52.681894",
   "version": "2.4.0"
  }
 },
 "nbformat": 4,
 "nbformat_minor": 5
}
